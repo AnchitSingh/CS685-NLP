{
 "cells": [
  {
   "cell_type": "markdown",
   "metadata": {
    "id": "Gsn2_KjD5avh"
   },
   "source": [
    "# **BINARY TEXT CLASSIFICATION USING ANN**"
   ]
  },
  {
   "cell_type": "code",
   "execution_count": null,
   "metadata": {
    "colab": {
     "base_uri": "https://localhost:8080/"
    },
    "id": "UuurfS4g4MS_",
    "outputId": "e653ff24-2783-4a33-bb11-fa529791ffdc"
   },
   "outputs": [
    {
     "name": "stdout",
     "output_type": "stream",
     "text": [
      "Downloading data from https://storage.googleapis.com/tensorflow/tf-keras-datasets/imdb.npz\n",
      "17465344/17464789 [==============================] - 0s 0us/step\n"
     ]
    },
    {
     "name": "stderr",
     "output_type": "stream",
     "text": [
      "<string>:6: VisibleDeprecationWarning: Creating an ndarray from ragged nested sequences (which is a list-or-tuple of lists-or-tuples-or ndarrays with different lengths or shapes) is deprecated. If you meant to do this, you must specify 'dtype=object' when creating the ndarray\n",
      "/usr/local/lib/python3.7/dist-packages/tensorflow/python/keras/datasets/imdb.py:155: VisibleDeprecationWarning: Creating an ndarray from ragged nested sequences (which is a list-or-tuple of lists-or-tuples-or ndarrays with different lengths or shapes) is deprecated. If you meant to do this, you must specify 'dtype=object' when creating the ndarray\n",
      "  x_train, y_train = np.array(xs[:idx]), np.array(labels[:idx])\n",
      "/usr/local/lib/python3.7/dist-packages/tensorflow/python/keras/datasets/imdb.py:156: VisibleDeprecationWarning: Creating an ndarray from ragged nested sequences (which is a list-or-tuple of lists-or-tuples-or ndarrays with different lengths or shapes) is deprecated. If you meant to do this, you must specify 'dtype=object' when creating the ndarray\n",
      "  x_test, y_test = np.array(xs[idx:]), np.array(labels[idx:])\n"
     ]
    }
   ],
   "source": [
    "import tensorflow as tf\n",
    "from tensorflow import keras\n",
    "import numpy as np\n"
   ]
  },
  {
   "cell_type": "code",
   "execution_count": null,
   "metadata": {
    "id": "vIu5_UvBDs0N"
   },
   "outputs": [],
   "source": []
  },
  {
   "cell_type": "code",
   "execution_count": null,
   "metadata": {
    "colab": {
     "base_uri": "https://localhost:8080/"
    },
    "id": "QFRa_bewDsfD",
    "outputId": "293f5397-c287-4b98-d459-5ad773b6e614"
   },
   "outputs": [
    {
     "name": "stdout",
     "output_type": "stream",
     "text": [
      "Training entries: 25000, labels: 25000\n",
      "Sample Training Data 1: [1, 14, 22, 16, 43, 530, 973, 1622, 1385, 65, 458, 4468, 66, 3941, 4, 173, 36, 256, 5, 25, 100, 43, 838, 112, 50, 670, 2, 9, 35, 480, 284, 5, 150, 4, 172, 112, 167, 2, 336, 385, 39, 4, 172, 4536, 1111, 17, 546, 38, 13, 447, 4, 192, 50, 16, 6, 147, 2025, 19, 14, 22, 4, 1920, 4613, 469, 4, 22, 71, 87, 12, 16, 43, 530, 38, 76, 15, 13, 1247, 4, 22, 17, 515, 17, 12, 16, 626, 18, 2, 5, 62, 386, 12, 8, 316, 8, 106, 5, 4, 2223, 5244, 16, 480, 66, 3785, 33, 4, 130, 12, 16, 38, 619, 5, 25, 124, 51, 36, 135, 48, 25, 1415, 33, 6, 22, 12, 215, 28, 77, 52, 5, 14, 407, 16, 82, 2, 8, 4, 107, 117, 5952, 15, 256, 4, 2, 7, 3766, 5, 723, 36, 71, 43, 530, 476, 26, 400, 317, 46, 7, 4, 2, 1029, 13, 104, 88, 4, 381, 15, 297, 98, 32, 2071, 56, 26, 141, 6, 194, 7486, 18, 4, 226, 22, 21, 134, 476, 26, 480, 5, 144, 30, 5535, 18, 51, 36, 28, 224, 92, 25, 104, 4, 226, 65, 16, 38, 1334, 88, 12, 16, 283, 5, 16, 4472, 113, 103, 32, 15, 16, 5345, 19, 178, 32] \n",
      "Sample Training Label 1: 1\n"
     ]
    }
   ],
   "source": [
    "print(\"Training entries: {}, labels: {}\".format(len(train_data), len(train_labels)))\n",
    "print(\"Sample Training Data 1:\",train_data[0], \"\\nSample Training Label 1:\",train_labels[0])"
   ]
  },
  {
   "cell_type": "markdown",
   "metadata": {
    "id": "A6Ir6GjkGqry"
   },
   "source": [
    "# SAMPLE PADDING CODE"
   ]
  },
  {
   "cell_type": "code",
   "execution_count": null,
   "metadata": {
    "colab": {
     "base_uri": "https://localhost:8080/"
    },
    "id": "TkcHITPxTMaA",
    "outputId": "f41a04dd-e300-4058-eba0-1522858a2923"
   },
   "outputs": [
    {
     "name": "stdout",
     "output_type": "stream",
     "text": [
      "\n",
      "Sequences =  [[5, 3, 2, 4], [5, 3, 2, 7], [6, 3, 2, 4], [8, 6, 9, 2, 4, 10, 11]]\n",
      "\n",
      "Padded Sequences:\n",
      "\n",
      "Default Padding:\n",
      " [[ 0  0  0  0  0  0  5  3  2  4]\n",
      " [ 0  0  0  0  0  0  5  3  2  7]\n",
      " [ 0  0  0  0  0  0  6  3  2  4]\n",
      " [ 0  0  0  8  6  9  2  4 10 11]]\n",
      "Post Padding:\n",
      " [[ 5  3  2  4  0  0  0  0  0  0]\n",
      " [ 5  3  2  7  0  0  0  0  0  0]\n",
      " [ 6  3  2  4  0  0  0  0  0  0]\n",
      " [ 8  6  9  2  4 10 11  0  0  0]]\n",
      "Truncation:\n",
      " [[ 2  4]\n",
      " [ 2  7]\n",
      " [ 2  4]\n",
      " [10 11]]\n"
     ]
    }
   ],
   "source": [
    "from tensorflow.keras.preprocessing.text import Tokenizer\n",
    "from tensorflow.keras.preprocessing.sequence import pad_sequences\n",
    "\n",
    "sentences = [\n",
    "    'I love my dog',\n",
    "    'I love my cat',\n",
    "    'You love my dog!',\n",
    "    'Do you think my dog is amazing?'\n",
    "]\n",
    "\n",
    "tokenizer = Tokenizer(num_words = 100, oov_token=\"<OOV>\")\n",
    "tokenizer.fit_on_texts(sentences)\n",
    "word_index = tokenizer.word_index\n",
    "\n",
    "sequences = tokenizer.texts_to_sequences(sentences)\n",
    "\n",
    "padded = pad_sequences(sequences, maxlen=10)\n",
    "padded1 = pad_sequences(sequences,padding= 'post', maxlen=10)\n",
    "padded2 = pad_sequences(sequences, maxlen=2)\n",
    "print(\"\\nSequences = \" , sequences)\n",
    "print(\"\\nPadded Sequences:\\n\")\n",
    "print(\"Default Padding:\\n\",padded)\n",
    "print(\"Post Padding:\\n\",padded1)\n",
    "print(\"Truncation:\\n\",padded2)"
   ]
  },
  {
   "cell_type": "code",
   "execution_count": null,
   "metadata": {
    "colab": {
     "base_uri": "https://localhost:8080/"
    },
    "id": "iLl0JIIGGrFY",
    "outputId": "d4b7f996-9c7f-4907-8423-883b57f1663f"
   },
   "outputs": [
    {
     "name": "stdout",
     "output_type": "stream",
     "text": [
      "Downloading data from https://storage.googleapis.com/tensorflow/tf-keras-datasets/imdb_word_index.json\n",
      "1646592/1641221 [==============================] - 0s 0us/step\n",
      "Length of DATA 1 before Padding:    218 \n",
      "Length of DATA 2 before Padding:    189\n",
      "Length of DATA 1 after Padding:    256 \n",
      "Length of DATA 2 after Padding:    256\n"
     ]
    }
   ],
   "source": [
    "word_index = imdb.get_word_index()\n",
    "word_index = {k:(v+3) for k,v in word_index.items()} \n",
    "word_index[\"<PAD>\"] = 0\n",
    "word_index[\"<START>\"] = 1\n",
    "word_index[\"<UNK>\"] = 2 \n",
    "word_index[\"<UNUSED>\"] = 3\n",
    "print(\"Length of DATA 1 before Padding:   \",len(train_data[0]),\"\\nLength of DATA 2 before Padding:   \", len(train_data[1]))\n",
    "\n",
    "train_data = keras.preprocessing.sequence.pad_sequences(train_data, value=word_index[\"<PAD>\"], padding='post', maxlen=256)\n",
    "test_data = keras.preprocessing.sequence.pad_sequences(test_data, value=word_index[\"<PAD>\"], padding='post', maxlen=256)\n",
    "\n",
    "print(\"Length of DATA 1 after Padding:   \",len(train_data[0]),\"\\nLength of DATA 2 after Padding:   \", len(train_data[1]))"
   ]
  },
  {
   "cell_type": "code",
   "execution_count": null,
   "metadata": {
    "colab": {
     "base_uri": "https://localhost:8080/"
    },
    "id": "h48lG6_QXNVf",
    "outputId": "c9684e60-e891-4741-9bfd-0e8d34ceac21"
   },
   "outputs": [
    {
     "name": "stdout",
     "output_type": "stream",
     "text": [
      "[   1   14   22   16   43  530  973 1622 1385   65  458 4468   66 3941\n",
      "    4  173   36  256    5   25  100   43  838  112   50  670    2    9\n",
      "   35  480  284    5  150    4  172  112  167    2  336  385   39    4\n",
      "  172 4536 1111   17  546   38   13  447    4  192   50   16    6  147\n",
      " 2025   19   14   22    4 1920 4613  469    4   22   71   87   12   16\n",
      "   43  530   38   76   15   13 1247    4   22   17  515   17   12   16\n",
      "  626   18    2    5   62  386   12    8  316    8  106    5    4 2223\n",
      " 5244   16  480   66 3785   33    4  130   12   16   38  619    5   25\n",
      "  124   51   36  135   48   25 1415   33    6   22   12  215   28   77\n",
      "   52    5   14  407   16   82    2    8    4  107  117 5952   15  256\n",
      "    4    2    7 3766    5  723   36   71   43  530  476   26  400  317\n",
      "   46    7    4    2 1029   13  104   88    4  381   15  297   98   32\n",
      " 2071   56   26  141    6  194 7486   18    4  226   22   21  134  476\n",
      "   26  480    5  144   30 5535   18   51   36   28  224   92   25  104\n",
      "    4  226   65   16   38 1334   88   12   16  283    5   16 4472  113\n",
      "  103   32   15   16 5345   19  178   32    0    0    0    0    0    0\n",
      "    0    0    0    0    0    0    0    0    0    0    0    0    0    0\n",
      "    0    0    0    0    0    0    0    0    0    0    0    0    0    0\n",
      "    0    0    0    0]\n"
     ]
    }
   ],
   "source": [
    "print(train_data[0])"
   ]
  },
  {
   "cell_type": "code",
   "execution_count": null,
   "metadata": {
    "colab": {
     "base_uri": "https://localhost:8080/"
    },
    "id": "9nCYkD6b3ptI",
    "outputId": "9a8b0284-0b9e-4536-9e0d-60062aa6baa1"
   },
   "outputs": [
    {
     "name": "stdout",
     "output_type": "stream",
     "text": [
      "Model: \"sequential\"\n",
      "_________________________________________________________________\n",
      "Layer (type)                 Output Shape              Param #   \n",
      "=================================================================\n",
      "embedding (Embedding)        (None, None, 16)          160000    \n",
      "_________________________________________________________________\n",
      "global_average_pooling1d (Gl (None, 16)                0         \n",
      "_________________________________________________________________\n",
      "dense (Dense)                (None, 16)                272       \n",
      "_________________________________________________________________\n",
      "dense_1 (Dense)              (None, 1)                 17        \n",
      "=================================================================\n",
      "Total params: 160,289\n",
      "Trainable params: 160,289\n",
      "Non-trainable params: 0\n",
      "_________________________________________________________________\n"
     ]
    }
   ],
   "source": [
    "vocab_size = 10000\n",
    "\n",
    "model = keras.Sequential()\n",
    "model.add(keras.layers.Embedding(vocab_size, 16))\n",
    "model.add(keras.layers.GlobalAveragePooling1D())\n",
    "model.add(keras.layers.Dense(16, activation='relu'))\n",
    "model.add(keras.layers.Dense(1, activation='sigmoid'))\n",
    "\n",
    "model.summary()"
   ]
  },
  {
   "cell_type": "code",
   "execution_count": null,
   "metadata": {
    "colab": {
     "base_uri": "https://localhost:8080/"
    },
    "id": "IybXvgXb4WnJ",
    "outputId": "a89e23b3-7c61-4d3d-b7b2-05e1958fd0f8"
   },
   "outputs": [
    {
     "name": "stdout",
     "output_type": "stream",
     "text": [
      "Epoch 1/40\n",
      "30/30 [==============================] - 4s 17ms/step - loss: 0.6917 - accuracy: 0.6129 - val_loss: 0.6895 - val_accuracy: 0.7269\n",
      "Epoch 2/40\n",
      "30/30 [==============================] - 0s 13ms/step - loss: 0.6852 - accuracy: 0.7540 - val_loss: 0.6804 - val_accuracy: 0.7571\n",
      "Epoch 3/40\n",
      "30/30 [==============================] - 0s 12ms/step - loss: 0.6713 - accuracy: 0.7685 - val_loss: 0.6631 - val_accuracy: 0.7673\n",
      "Epoch 4/40\n",
      "30/30 [==============================] - 0s 13ms/step - loss: 0.6472 - accuracy: 0.7858 - val_loss: 0.6357 - val_accuracy: 0.7696\n",
      "Epoch 5/40\n",
      "30/30 [==============================] - 0s 12ms/step - loss: 0.6124 - accuracy: 0.8019 - val_loss: 0.5995 - val_accuracy: 0.7932\n",
      "Epoch 6/40\n",
      "30/30 [==============================] - 0s 13ms/step - loss: 0.5690 - accuracy: 0.8173 - val_loss: 0.5573 - val_accuracy: 0.8064\n",
      "Epoch 7/40\n",
      "30/30 [==============================] - 0s 12ms/step - loss: 0.5217 - accuracy: 0.8353 - val_loss: 0.5142 - val_accuracy: 0.8171\n",
      "Epoch 8/40\n",
      "30/30 [==============================] - 0s 13ms/step - loss: 0.4746 - accuracy: 0.8499 - val_loss: 0.4738 - val_accuracy: 0.8342\n",
      "Epoch 9/40\n",
      "30/30 [==============================] - 0s 13ms/step - loss: 0.4315 - accuracy: 0.8613 - val_loss: 0.4375 - val_accuracy: 0.8445\n",
      "Epoch 10/40\n",
      "30/30 [==============================] - 0s 12ms/step - loss: 0.3923 - accuracy: 0.8744 - val_loss: 0.4063 - val_accuracy: 0.8538\n",
      "Epoch 11/40\n",
      "30/30 [==============================] - 0s 13ms/step - loss: 0.3593 - accuracy: 0.8842 - val_loss: 0.3817 - val_accuracy: 0.8599\n",
      "Epoch 12/40\n",
      "30/30 [==============================] - 0s 13ms/step - loss: 0.3324 - accuracy: 0.8898 - val_loss: 0.3625 - val_accuracy: 0.8621\n",
      "Epoch 13/40\n",
      "30/30 [==============================] - 0s 13ms/step - loss: 0.3089 - accuracy: 0.8952 - val_loss: 0.3462 - val_accuracy: 0.8702\n",
      "Epoch 14/40\n",
      "30/30 [==============================] - 0s 12ms/step - loss: 0.2896 - accuracy: 0.9008 - val_loss: 0.3339 - val_accuracy: 0.8706\n",
      "Epoch 15/40\n",
      "30/30 [==============================] - 0s 13ms/step - loss: 0.2720 - accuracy: 0.9068 - val_loss: 0.3233 - val_accuracy: 0.8745\n",
      "Epoch 16/40\n",
      "30/30 [==============================] - 0s 12ms/step - loss: 0.2569 - accuracy: 0.9115 - val_loss: 0.3150 - val_accuracy: 0.8783\n",
      "Epoch 17/40\n",
      "30/30 [==============================] - 0s 12ms/step - loss: 0.2430 - accuracy: 0.9172 - val_loss: 0.3082 - val_accuracy: 0.8796\n",
      "Epoch 18/40\n",
      "30/30 [==============================] - 0s 12ms/step - loss: 0.2308 - accuracy: 0.9196 - val_loss: 0.3037 - val_accuracy: 0.8801\n",
      "Epoch 19/40\n",
      "30/30 [==============================] - 0s 12ms/step - loss: 0.2198 - accuracy: 0.9249 - val_loss: 0.2983 - val_accuracy: 0.8803\n",
      "Epoch 20/40\n",
      "30/30 [==============================] - 0s 13ms/step - loss: 0.2093 - accuracy: 0.9289 - val_loss: 0.2943 - val_accuracy: 0.8825\n",
      "Epoch 21/40\n",
      "30/30 [==============================] - 0s 12ms/step - loss: 0.2000 - accuracy: 0.9317 - val_loss: 0.2915 - val_accuracy: 0.8843\n",
      "Epoch 22/40\n",
      "30/30 [==============================] - 0s 12ms/step - loss: 0.1903 - accuracy: 0.9361 - val_loss: 0.2892 - val_accuracy: 0.8844\n",
      "Epoch 23/40\n",
      "30/30 [==============================] - 0s 12ms/step - loss: 0.1822 - accuracy: 0.9399 - val_loss: 0.2887 - val_accuracy: 0.8829\n",
      "Epoch 24/40\n",
      "30/30 [==============================] - 0s 12ms/step - loss: 0.1746 - accuracy: 0.9426 - val_loss: 0.2866 - val_accuracy: 0.8846\n",
      "Epoch 25/40\n",
      "30/30 [==============================] - 0s 13ms/step - loss: 0.1668 - accuracy: 0.9475 - val_loss: 0.2860 - val_accuracy: 0.8839\n",
      "Epoch 26/40\n",
      "30/30 [==============================] - 0s 12ms/step - loss: 0.1598 - accuracy: 0.9499 - val_loss: 0.2856 - val_accuracy: 0.8846\n",
      "Epoch 27/40\n",
      "30/30 [==============================] - 0s 13ms/step - loss: 0.1533 - accuracy: 0.9530 - val_loss: 0.2860 - val_accuracy: 0.8845\n",
      "Epoch 28/40\n",
      "30/30 [==============================] - 0s 13ms/step - loss: 0.1474 - accuracy: 0.9544 - val_loss: 0.2859 - val_accuracy: 0.8853\n",
      "Epoch 29/40\n",
      "30/30 [==============================] - 0s 13ms/step - loss: 0.1415 - accuracy: 0.9575 - val_loss: 0.2868 - val_accuracy: 0.8859\n",
      "Epoch 30/40\n",
      "30/30 [==============================] - 0s 12ms/step - loss: 0.1354 - accuracy: 0.9598 - val_loss: 0.2899 - val_accuracy: 0.8828\n",
      "Epoch 31/40\n",
      "30/30 [==============================] - 0s 12ms/step - loss: 0.1320 - accuracy: 0.9608 - val_loss: 0.2895 - val_accuracy: 0.8846\n",
      "Epoch 32/40\n",
      "30/30 [==============================] - 0s 12ms/step - loss: 0.1251 - accuracy: 0.9634 - val_loss: 0.2912 - val_accuracy: 0.8849\n",
      "Epoch 33/40\n",
      "30/30 [==============================] - 0s 13ms/step - loss: 0.1204 - accuracy: 0.9661 - val_loss: 0.2933 - val_accuracy: 0.8866\n",
      "Epoch 34/40\n",
      "30/30 [==============================] - 0s 13ms/step - loss: 0.1163 - accuracy: 0.9677 - val_loss: 0.2951 - val_accuracy: 0.8850\n",
      "Epoch 35/40\n",
      "30/30 [==============================] - 0s 16ms/step - loss: 0.1113 - accuracy: 0.9693 - val_loss: 0.2969 - val_accuracy: 0.8844\n",
      "Epoch 36/40\n",
      "30/30 [==============================] - 0s 13ms/step - loss: 0.1070 - accuracy: 0.9703 - val_loss: 0.2997 - val_accuracy: 0.8835\n",
      "Epoch 37/40\n",
      "30/30 [==============================] - 0s 13ms/step - loss: 0.1030 - accuracy: 0.9714 - val_loss: 0.3026 - val_accuracy: 0.8842\n",
      "Epoch 38/40\n",
      "30/30 [==============================] - 0s 13ms/step - loss: 0.0991 - accuracy: 0.9737 - val_loss: 0.3051 - val_accuracy: 0.8831\n",
      "Epoch 39/40\n",
      "30/30 [==============================] - 0s 13ms/step - loss: 0.0954 - accuracy: 0.9757 - val_loss: 0.3094 - val_accuracy: 0.8825\n",
      "Epoch 40/40\n",
      "30/30 [==============================] - 0s 12ms/step - loss: 0.0921 - accuracy: 0.9768 - val_loss: 0.3114 - val_accuracy: 0.8817\n"
     ]
    }
   ],
   "source": [
    "model.compile(optimizer='adam', loss='binary_crossentropy', metrics=['accuracy'])\n",
    "\n",
    "x_val = train_data[:10000]\n",
    "partial_x_train = train_data[10000:]\n",
    "\n",
    "y_val = train_labels[:10000]\n",
    "partial_y_train = train_labels[10000:]\n",
    "\n",
    "history = model.fit(partial_x_train,partial_y_train,epochs=40,batch_size=512,validation_data=(x_val, y_val))"
   ]
  },
  {
   "cell_type": "code",
   "execution_count": null,
   "metadata": {
    "id": "XHF9L-w1Cq_1"
   },
   "outputs": [],
   "source": []
  },
  {
   "cell_type": "code",
   "execution_count": null,
   "metadata": {
    "colab": {
     "base_uri": "https://localhost:8080/"
    },
    "id": "U6gfPQsl-LlA",
    "outputId": "2f8cd253-4eec-401a-f737-f55d2455c3e2"
   },
   "outputs": [
    {
     "name": "stdout",
     "output_type": "stream",
     "text": [
      "Test Data 20:  [   1   14   22   16   31   15   13   28 4465    8   67   18   49   58\n",
      "   13   16 1264    8  169   12   47   77  285 6658    4  487    7   14\n",
      "   22   47   77   38 8625 2882    5    2  230  724   51    9  110   34\n",
      "    4  311   13  258   12 1139   15   38  111   84  149   80   24  332\n",
      "  200   49   55  674  411   21  849   48   24    4   20   80   97  281\n",
      "   11    6  275   96    5    9   55  530    4   22   47  111  537    5\n",
      "  105 9320  295  187   14   31  109    2    6  132  937   47 2313   39\n",
      "    4 1986 6929  111    2    5  413    6   55  976 1676  103 3427   49\n",
      "   58   11 1172    2  659    6    2   11    4 1351 1510    5  143    6\n",
      " 1193  471    7  687    9  626   64    8  169  285    9   24   33   32\n",
      "   51   12  186    2  659  309  170   56  429    4 1931 5513    7  926\n",
      "    5  993    2   11  661    8   97  788   89  674    6 1601  681    9\n",
      "    5 1407   18    6  325  778   17    4  890    9   11 2800  429    2\n",
      "    7 4008    5 3408  671   10   10    6 1703   56    8 6980    5  976\n",
      "  701  570 1299    5  505   14   22   80  563   25    2   13  258    4\n",
      "  177    7   14   20    8   30 1339    5    9   24    6   20    8   30\n",
      " 3714  321  140  851   12  639    0    0    0    0    0    0    0    0\n",
      "    0    0    0    0    0    0    0    0    0    0    0    0    0    0\n",
      "    0    0    0    0] \n",
      " Test Label 20 :  1\n",
      "782/782 [==============================] - 2s 2ms/step - loss: 0.3326 - accuracy: 0.8720\n",
      "[0.3325809836387634, 0.8719599843025208]\n"
     ]
    }
   ],
   "source": [
    "print(\"Test Data 20: \", test_data[20], \"\\n Test Label 20 : \", test_labels[20])\n",
    "results = model.evaluate(test_data, test_labels)\n",
    "print(results)"
   ]
  },
  {
   "cell_type": "code",
   "execution_count": null,
   "metadata": {
    "colab": {
     "base_uri": "https://localhost:8080/"
    },
    "id": "MctbyBTEJKVf",
    "outputId": "d8b0ddde-79cc-4307-835b-d32180ffea20"
   },
   "outputs": [
    {
     "name": "stdout",
     "output_type": "stream",
     "text": [
      "label 0 - Negative\n",
      "label 1 - Positive\n",
      "\n",
      "Sample sentence\n",
      "<START> this is about one of the worst movies i'd ever seen it's not the worst though <UNK> the hands of fate holds that honor br br this movie has a lot of problems to begin this whole movie is a cheap rip off of the conan movies there's the babe in a skimpy dress wearing a the quiet asian warrior the cookie cutter bad guy the almost mindless and so on there's lots of continuity errors in this film some of the dumbest errors i've ever seen are in this film br br fortunately when i watched this film i seen the mst3k version joel and the make the film watchable otherwise i probably would've turned it off five minutes into the film <PAD> <PAD> <PAD> <PAD> <PAD> <PAD> <PAD> <PAD> <PAD> <PAD> <PAD> <PAD> <PAD> <PAD> <PAD> <PAD> <PAD> <PAD> <PAD> <PAD> <PAD> <PAD> <PAD> <PAD> <PAD> <PAD> <PAD> <PAD> <PAD> <PAD> <PAD> <PAD> <PAD> <PAD> <PAD> <PAD> <PAD> <PAD> <PAD> <PAD> <PAD> <PAD> <PAD> <PAD> <PAD> <PAD> <PAD> <PAD> <PAD> <PAD> <PAD> <PAD> <PAD> <PAD> <PAD> <PAD> <PAD> <PAD> <PAD> <PAD> <PAD> <PAD> <PAD> <PAD> <PAD> <PAD> <PAD> <PAD> <PAD> <PAD> <PAD> <PAD> <PAD> <PAD> <PAD> <PAD> <PAD> <PAD> <PAD> <PAD> <PAD> <PAD> <PAD> <PAD> <PAD> <PAD> <PAD> <PAD> <PAD> <PAD> <PAD> <PAD> <PAD> <PAD> <PAD> <PAD> <PAD> <PAD> <PAD> <PAD> <PAD> <PAD> <PAD> <PAD> <PAD> <PAD> <PAD> <PAD> <PAD> <PAD> <PAD> <PAD> <PAD> <PAD> <PAD> <PAD> <PAD> <PAD> <PAD> <PAD> <PAD> <PAD> <PAD> <PAD> <PAD> <PAD> <PAD> <PAD> <PAD> <PAD> <PAD> <PAD>\n",
      "Predicted Probability:  [0.00287965]\n",
      "Predicted label:  0\n"
     ]
    }
   ],
   "source": [
    "word_index = imdb.get_word_index()\n",
    "# The first indices are reserved\n",
    "word_index = {k:(v+3) for k,v in word_index.items()} \n",
    "word_index[\"<PAD>\"] = 0\n",
    "word_index[\"<START>\"] = 1\n",
    "word_index[\"<UNK>\"] = 2  # unknown\n",
    "word_index[\"<UNUSED>\"] = 3\n",
    "\n",
    "reverse_word_index = dict([(value, key) for (key, value) in word_index.items()])\n",
    "\n",
    "def decode_review(text):\n",
    "    return ' '.join([reverse_word_index.get(i, '?') for i in text])\n",
    "\n",
    "print(\"label 0 - Negative\\nlabel 1 - Positive\\n\")\n",
    "print(\"Sample sentence\")\n",
    "print(decode_review(test_data[35]))\n",
    "testdata_pred= model.predict(test_data)\n",
    "testlab_pred= model.predict (test_labels)\n",
    "print(\"Predicted Probability: \",test_pred[35])\n",
    "print(\"Predicted label: \",test_labels[35])"
   ]
  },
  {
   "cell_type": "code",
   "execution_count": null,
   "metadata": {
    "colab": {
     "base_uri": "https://localhost:8080/",
     "height": 295
    },
    "id": "9bo9Mllp--Yw",
    "outputId": "0538ade2-0e33-49bc-f62c-be2124c016f4"
   },
   "outputs": [
    {
     "data": {
      "image/png": "[encoded data removed]",
      "text/plain": [
       "<Figure size 432x288 with 1 Axes>"
      ]
     },
     "metadata": {
      "needs_background": "light",
      "tags": []
     },
     "output_type": "display_data"
    }
   ],
   "source": [
    ")import matplotlib.pyplot as plt\n",
    "\n",
    "acc = history.history['accuracy']\n",
    "val_acc = history.history['val_accuracy']\n",
    "loss = history.history['loss']\n",
    "val_loss = history.history['val_loss']\n",
    "\n",
    "epochs = range(1, len(acc) + 1)\n",
    "\n",
    "plt.plot(epochs, acc, 'r*', label='Training acc')\n",
    "plt.plot(epochs, val_acc, 'b', label='Validation acc')\n",
    "plt.title('Training and validation accuracy')\n",
    "plt.xlabel('Epochs')\n",
    "plt.ylabel('Loss')\n",
    "plt.legend()\n",
    "\n",
    "plt.show()"
   ]
  }
 ],
 "metadata": {
  "accelerator": "GPU",
  "colab": {
   "name": "binaryTC.ipynb",
   "provenance": []
  },
  "kernelspec": {
   "display_name": "Python 3",
   "language": "python",
   "name": "python3"
  },
  "language_info": {
   "codemirror_mode": {
    "name": "ipython",
    "version": 3
   },
   "file_extension": ".py",
   "mimetype": "text/x-python",
   "name": "python",
   "nbconvert_exporter": "python",
   "pygments_lexer": "ipython3",
   "version": "3.8.8"
  }
 },
 "nbformat": 4,
 "nbformat_minor": 1
}
