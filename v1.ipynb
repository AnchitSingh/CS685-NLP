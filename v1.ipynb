{
 "cells": [
  {
   "cell_type": "code",
   "execution_count": 1,
   "id": "e5d49070",
   "metadata": {},
   "outputs": [],
   "source": [
    "import pandas as pd\n",
    "import numpy as np\n",
    "import string\n",
    "import re\n",
    "from bs4 import BeautifulSoup\n",
    "from spellchecker import SpellChecker\n",
    "import matplotlib.pyplot as plt\n",
    "from utils import emo\n",
    "import emoji\n",
    "import string\n",
    "# !pip install emoji"
   ]
  },
  {
   "cell_type": "code",
   "execution_count": 2,
   "id": "1d9038ed",
   "metadata": {},
   "outputs": [
    {
     "data": {
      "text/html": [
       "<div>\n",
       "<style scoped>\n",
       "    .dataframe tbody tr th:only-of-type {\n",
       "        vertical-align: middle;\n",
       "    }\n",
       "\n",
       "    .dataframe tbody tr th {\n",
       "        vertical-align: top;\n",
       "    }\n",
       "\n",
       "    .dataframe thead th {\n",
       "        text-align: right;\n",
       "    }\n",
       "</style>\n",
       "<table border=\"1\" class=\"dataframe\">\n",
       "  <thead>\n",
       "    <tr style=\"text-align: right;\">\n",
       "      <th></th>\n",
       "      <th>text</th>\n",
       "      <th>label</th>\n",
       "    </tr>\n",
       "  </thead>\n",
       "  <tbody>\n",
       "    <tr>\n",
       "      <th>0</th>\n",
       "      <td>takes no time to copy/paste a press release</td>\n",
       "      <td>0</td>\n",
       "    </tr>\n",
       "    <tr>\n",
       "      <th>1</th>\n",
       "      <td>You're delusional</td>\n",
       "      <td>1</td>\n",
       "    </tr>\n",
       "    <tr>\n",
       "      <th>2</th>\n",
       "      <td>Jazz fan here. I completely feel. Lindsay Mann...</td>\n",
       "      <td>0</td>\n",
       "    </tr>\n",
       "    <tr>\n",
       "      <th>3</th>\n",
       "      <td>ah i was also confused but i think they mean f...</td>\n",
       "      <td>0</td>\n",
       "    </tr>\n",
       "    <tr>\n",
       "      <th>4</th>\n",
       "      <td>Thank you so much. ♥️ that means a lot.</td>\n",
       "      <td>0</td>\n",
       "    </tr>\n",
       "  </tbody>\n",
       "</table>\n",
       "</div>"
      ],
      "text/plain": [
       "                                                text  label\n",
       "0        takes no time to copy/paste a press release      0\n",
       "1                                  You're delusional      1\n",
       "2  Jazz fan here. I completely feel. Lindsay Mann...      0\n",
       "3  ah i was also confused but i think they mean f...      0\n",
       "4            Thank you so much. ♥️ that means a lot.      0"
      ]
     },
     "execution_count": 2,
     "metadata": {},
     "output_type": "execute_result"
    }
   ],
   "source": [
    "df = pd.read_csv('data/train.csv')\n",
    "df.head()"
   ]
  },
  {
   "cell_type": "markdown",
   "id": "1ec0962a",
   "metadata": {},
   "source": [
    "## Helper pre-processing functions\n",
    "\n",
    ">In general we remove the emoticons and emoji from dataset \\\n",
    "but since we are working with detecting emotions so they will \\\n",
    "be replaced by their meanings"
   ]
  },
  {
   "cell_type": "code",
   "execution_count": 3,
   "id": "85384421",
   "metadata": {},
   "outputs": [],
   "source": [
    "PUNCT_TO_REMOVE = string.punctuation\n",
    "UNICODE_EMO = emo.UNICODE_EMOJI\n",
    "EMOTICONS = emo.EMOTICONS_EMO\n",
    "\n",
    "def remove_urls(text):\n",
    "    url_pattern = re.compile(r'https?://\\S+|www\\.\\S+')\n",
    "    return url_pattern.sub(r'', text)\n",
    "def remove_html(text):\n",
    "    return BeautifulSoup(text, \"lxml\").text\n",
    "\n",
    "def remove_punctuation(text):\n",
    "    return text.translate(str.maketrans('', '', PUNCT_TO_REMOVE))\n",
    "\n",
    "#  Converting Emoticons Start\n",
    "\n",
    "str_emo = str(EMOTICONS)[1:-1]\n",
    "str_emo = str_emo.replace(\"\\\\\",\"\\\\\\\\\")\n",
    "str_emo = str_emo.replace('(','\\(')\n",
    "str_emo = str_emo.replace(')','\\)')\n",
    "str_emo = str_emo.replace('[','\\[')\n",
    "str_emo = str_emo.replace(']','\\]')\n",
    "str_emo = str_emo.replace('{','\\{')\n",
    "str_emo = str_emo.replace('}','\\}')\n",
    "str_emo = str_emo.replace('.','\\.')\n",
    "str_emo = str_emo.replace('$','\\$')\n",
    "str_emo = str_emo.replace('*','\\*')\n",
    "ttr_emo = '{'+str_emo+'}'\n",
    "mod_emo = eval(ttr_emo)\n",
    "\n",
    "def convert_emoticons(text):\n",
    "    for e,m in zip(EMOTICONS,mod_emo):\n",
    "        if e in text:\n",
    "            text = re.sub(m, \"_\".join(EMOTICONS[e].replace(\",\",\"\").split()), text)\n",
    "    return text\n",
    "\n",
    "# Converting Emoticons End\n",
    "\n",
    "\n",
    "def convert_emojis(text):\n",
    "    return emoji.demojize(text)"
   ]
  },
  {
   "cell_type": "code",
   "execution_count": null,
   "id": "72c33bb2",
   "metadata": {},
   "outputs": [],
   "source": []
  },
  {
   "cell_type": "code",
   "execution_count": 4,
   "id": "3aa24771",
   "metadata": {
    "scrolled": true
   },
   "outputs": [],
   "source": [
    "df['text'] = df['text'].apply(lambda x: convert_emojis(x)) # converting emojis to text\n",
    "df['text'] = df['text'].apply(lambda x: convert_emoticons(x)) # converting emoticons to text\n",
    "df['text'] = df['text'].apply(lambda x: x.lower())   # converting data to lowecase\n",
    "df['text'] = df['text'].apply(lambda x: remove_urls(x))   # converting data to lowecase\n",
    "df[\"text\"] = df[\"text\"].apply(lambda x: remove_punctuation(x)) # removing unwanted characters"
   ]
  },
  {
   "cell_type": "code",
   "execution_count": 32,
   "id": "e9d6e85e",
   "metadata": {},
   "outputs": [
    {
     "data": {
      "text/plain": [
       "<BarContainer object of 2 artists>"
      ]
     },
     "execution_count": 32,
     "metadata": {},
     "output_type": "execute_result"
    },
    {
     "data": {
      "image/png": "[encoded data removed]",
      "text/plain": [
       "<Figure size 432x288 with 1 Axes>"
      ]
     },
     "metadata": {
      "needs_background": "light"
     },
     "output_type": "display_data"
    }
   ],
   "source": [
    "plt.figure(figsize=(6, 4))\n",
    "plt.bar(['Positive','Negative'],list(df.label.value_counts()))"
   ]
  }
 ],
 "metadata": {
  "kernelspec": {
   "display_name": "Python 3",
   "language": "python",
   "name": "python3"
  },
  "language_info": {
   "codemirror_mode": {
    "name": "ipython",
    "version": 3
   },
   "file_extension": ".py",
   "mimetype": "text/x-python",
   "name": "python",
   "nbconvert_exporter": "python",
   "pygments_lexer": "ipython3",
   "version": "3.8.8"
  }
 },
 "nbformat": 4,
 "nbformat_minor": 5
}
