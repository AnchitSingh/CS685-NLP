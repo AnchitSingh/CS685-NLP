{
 "cells": [
  {
   "cell_type": "code",
   "execution_count": 32,
   "id": "32ca29f4",
   "metadata": {},
   "outputs": [],
   "source": [
    "import pandas as pd\n",
    "from collections import defaultdict\n",
    "import json"
   ]
  },
  {
   "cell_type": "code",
   "execution_count": 28,
   "id": "74640718",
   "metadata": {},
   "outputs": [],
   "source": [
    "positive_l = ['admiration' , 'amusement' , 'approval' , 'caring' , 'curiosity' , 'desire' , 'excitement' , 'gratitude' , 'joy' , 'love' , 'optimism' , 'pride' , 'realization' ,'relief' ,'surprise' ,'neutral']"
   ]
  },
  {
   "cell_type": "code",
   "execution_count": 29,
   "id": "3c266502",
   "metadata": {},
   "outputs": [],
   "source": [
    "negative_l = ['anger' , 'annoyance' , 'confusion' , 'disappointment' , 'disgust' , 'embarrassment' , 'fear' , 'grief' , 'nervousness' , 'remorse' , 'sadness' , '']"
   ]
  },
  {
   "cell_type": "code",
   "execution_count": 30,
   "id": "237181ff",
   "metadata": {},
   "outputs": [],
   "source": [
    "def custom_condition(x):\n",
    "    for pos_emo in positive_l:\n",
    "        if x[pos_emo] == 1:\n",
    "            return True\n",
    "    return False\n",
    "final_data = dict(list())\n",
    "final_data['Positive'] = []\n",
    "final_data['Negetive'] = []\n",
    "def add_data(data_df):\n",
    "    for i in range(len(data_df)):\n",
    "        if custom_condition(data_df.iloc[i]):\n",
    "            final_data['Positive'].append(data_df.iloc[i,0])\n",
    "        else:\n",
    "            final_data['Negetive'].append(data_df.iloc[i,0])"
   ]
  },
  {
   "cell_type": "code",
   "execution_count": 31,
   "id": "ed69934a",
   "metadata": {},
   "outputs": [],
   "source": [
    "data_df = pd.read_csv('goemotions_1.csv')\n",
    "add_data(data_df)\n",
    "data_df = pd.read_csv('goemotions_2.csv')\n",
    "add_data(data_df)\n",
    "data_df = pd.read_csv('goemotions_3.csv')\n",
    "add_data(data_df)"
   ]
  },
  {
   "cell_type": "code",
   "execution_count": 33,
   "id": "36478812",
   "metadata": {},
   "outputs": [],
   "source": [
    "with open('result.json', 'w') as fp:\n",
    "    json.dump(final_data, fp)"
   ]
  },
  {
   "cell_type": "code",
   "execution_count": null,
   "id": "c846a0f5",
   "metadata": {},
   "outputs": [],
   "source": []
  }
 ],
 "metadata": {
  "kernelspec": {
   "display_name": "Python 3 (ipykernel)",
   "language": "python",
   "name": "python3"
  },
  "language_info": {
   "codemirror_mode": {
    "name": "ipython",
    "version": 3
   },
   "file_extension": ".py",
   "mimetype": "text/x-python",
   "name": "python",
   "nbconvert_exporter": "python",
   "pygments_lexer": "ipython3",
   "version": "3.8.10"
  }
 },
 "nbformat": 4,
 "nbformat_minor": 5
}
